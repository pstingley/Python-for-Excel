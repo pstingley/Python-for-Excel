import pandas as pd
print(pd.read_excel("./python-for-excel-1st-edition/xl/course_participants.xlsx"))
